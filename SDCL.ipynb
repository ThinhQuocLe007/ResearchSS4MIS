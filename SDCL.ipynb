{
 "cells": [
  {
   "cell_type": "code",
   "execution_count": 1,
   "metadata": {},
   "outputs": [],
   "source": [
    "import numpy as np \n",
    "import pandas as pd \n",
    "import matplotlib.pyplot as plt \n",
    "\n",
    "# torch \n",
    "import torch \n",
    "import torch.nn as nn \n",
    "import torch.optim as optim \n",
    "import torchvision.transforms as transforms\n",
    "from torch.utils.data import DataLoader\n",
    "# Module \n",
    "from dataset.basedataset import ACDCDataset\n",
    "from dataset.utils import RandomGenerator"
   ]
  },
  {
   "cell_type": "code",
   "execution_count": 2,
   "metadata": {},
   "outputs": [],
   "source": [
    "# param \n",
    "from utils.params import params\n",
    "args = params() "
   ]
  },
  {
   "cell_type": "code",
   "execution_count": 3,
   "metadata": {},
   "outputs": [
    {
     "name": "stdout",
     "output_type": "stream",
     "text": [
      "Mode: train_lab: 136 samples in total\n",
      "Mode: train_lab: 136 samples in total\n",
      "Mode: val: 20 samples in total\n",
      "Image: torch.Size([12, 1, 256, 256])\n",
      "Lable.shape = torch.Size([12, 256, 256])\n"
     ]
    }
   ],
   "source": [
    "# Load the dataset \n",
    "c_batch_size = 12 \n",
    "train_lab_a = ACDCDataset(args.root_dir, \n",
    "                          split= 'train_lab', \n",
    "                          transform= transforms.Compose([RandomGenerator(args.patch_size)]))\n",
    "train_lab_b = ACDCDataset(args.root_dir, \n",
    "                          split= 'train_lab', \n",
    "                          reverse= False, \n",
    "                          transform= transforms.Compose([RandomGenerator(args.patch_size)]))\n",
    "val_dataset = ACDCDataset(args.root_dir, split= 'val')\n",
    "\n",
    "# Create dataloader \n",
    "lab_loader_a = DataLoader(train_lab_a, batch_size= c_batch_size, shuffle= True)\n",
    "lab_loader_b = DataLoader(train_lab_b, batch_size= c_batch_size, shuffle=True) \n",
    "\n",
    "dataiter = iter(lab_loader_a)\n",
    "image, label = next(dataiter)\n",
    "print(f'Image: {image.shape}')\n",
    "print(f'Lable.shape = {label.shape}')"
   ]
  },
  {
   "cell_type": "code",
   "execution_count": null,
   "metadata": {},
   "outputs": [],
   "source": []
  }
 ],
 "metadata": {
  "kernelspec": {
   "display_name": "DeepLearning",
   "language": "python",
   "name": "python3"
  },
  "language_info": {
   "codemirror_mode": {
    "name": "ipython",
    "version": 3
   },
   "file_extension": ".py",
   "mimetype": "text/x-python",
   "name": "python",
   "nbconvert_exporter": "python",
   "pygments_lexer": "ipython3",
   "version": "3.12.5"
  }
 },
 "nbformat": 4,
 "nbformat_minor": 2
}
